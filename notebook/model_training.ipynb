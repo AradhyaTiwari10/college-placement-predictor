{
 "cells": [
  {
   "cell_type": "code",
   "execution_count": 1,
   "metadata": {
    "vscode": {
     "languageId": "plaintext"
    }
   },
   "outputs": [
    {
     "name": "stdout",
     "output_type": "stream",
     "text": [
      "Classification Report:\n",
      "               precision    recall  f1-score   support\n",
      "\n",
      "           0       0.93      0.96      0.94      1674\n",
      "           1       0.75      0.61      0.67       326\n",
      "\n",
      "    accuracy                           0.90      2000\n",
      "   macro avg       0.84      0.78      0.81      2000\n",
      "weighted avg       0.90      0.90      0.90      2000\n",
      "\n",
      "Confusion Matrix:\n",
      " [[1609   65]\n",
      " [ 128  198]]\n",
      "Model & Scaler Saved Successfully!\n"
     ]
    }
   ],
   "source": [
    "# ✅ 1. Imports\n",
    "import pandas as pd\n",
    "import numpy as np\n",
    "from sklearn.model_selection import train_test_split\n",
    "from sklearn.preprocessing import StandardScaler\n",
    "from sklearn.linear_model import LogisticRegression\n",
    "from sklearn.metrics import classification_report, confusion_matrix\n",
    "import joblib\n",
    "\n",
    "# ✅ 2. Load Data\n",
    "df = pd.read_csv(\"../data/college_student_placement_dataset.csv\")\n",
    "\n",
    "# ✅ 3. Preprocessing\n",
    "df['Internship_Experience'] = df['Internship_Experience'].map({'Yes': 1, 'No': 0})\n",
    "df['Placement'] = df['Placement'].map({'Yes': 1, 'No': 0})\n",
    "\n",
    "# ✅ 4. Amplify Internship Weight\n",
    "df['Internship_Experience'] = df['Internship_Experience'] * 10  # Amplify it\n",
    "# You can adjust multiplier later if needed\n",
    "\n",
    "# ✅ 5. Feature Selection\n",
    "features = [\n",
    "    'IQ', 'Prev_Sem_Result', 'CGPA', 'Academic_Performance',\n",
    "    'Internship_Experience', 'Extra_Curricular_Score',\n",
    "    'Communication_Skills', 'Projects_Completed'\n",
    "]\n",
    "target = 'Placement'\n",
    "\n",
    "X = df[features]\n",
    "y = df[target]\n",
    "\n",
    "# ✅ 6. Train-Test Split\n",
    "X_train, X_test, y_train, y_test = train_test_split(X, y, test_size=0.2, random_state=42)\n",
    "\n",
    "# ✅ 7. Scaling\n",
    "scaler = StandardScaler()\n",
    "X_train_scaled = scaler.fit_transform(X_train)\n",
    "X_test_scaled = scaler.transform(X_test)\n",
    "\n",
    "# ✅ 8. Train Logistic Regression Model (for smoother predictions)\n",
    "model = LogisticRegression(max_iter=1000)\n",
    "model.fit(X_train_scaled, y_train)\n",
    "\n",
    "# ✅ 9. Evaluate\n",
    "y_pred = model.predict(X_test_scaled)\n",
    "print(\"Classification Report:\\n\", classification_report(y_test, y_pred))\n",
    "print(\"Confusion Matrix:\\n\", confusion_matrix(y_test, y_pred))\n",
    "\n",
    "# ✅ 10. Save Model & Scaler\n",
    "joblib.dump(model, \"../models/placement_logistic_model.pkl\")\n",
    "joblib.dump(scaler, \"../models/scaler.pkl\")\n",
    "print(\"Model & Scaler Saved Successfully!\")\n"
   ]
  },
  {
   "cell_type": "code",
   "execution_count": null,
   "metadata": {},
   "outputs": [],
   "source": []
  }
 ],
 "metadata": {
  "kernelspec": {
   "display_name": "Python 3 (ipykernel)",
   "language": "python",
   "name": "python3"
  },
  "language_info": {
   "codemirror_mode": {
    "name": "ipython",
    "version": 3
   },
   "file_extension": ".py",
   "mimetype": "text/x-python",
   "name": "python",
   "nbconvert_exporter": "python",
   "pygments_lexer": "ipython3",
   "version": "3.8.18"
  }
 },
 "nbformat": 4,
 "nbformat_minor": 4
}
